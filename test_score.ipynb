{
 "cells": [
  {
   "cell_type": "code",
   "execution_count": null,
   "metadata": {},
   "outputs": [],
   "source": [
    "%pip install -U -q pip huggingsound"
   ]
  },
  {
   "cell_type": "code",
   "execution_count": 1,
   "metadata": {},
   "outputs": [],
   "source": [
    "import joblib"
   ]
  },
  {
   "cell_type": "code",
   "execution_count": 2,
   "metadata": {},
   "outputs": [
    {
     "data": {
      "text/plain": [
       "<huggingsound.speech_recognition.model.SpeechRecognitionModel at 0x7f44245adbb0>"
      ]
     },
     "execution_count": 2,
     "metadata": {},
     "output_type": "execute_result"
    }
   ],
   "source": [
    "model2 = joblib.load('wav2wac_vhn')\n",
    "model2"
   ]
  },
  {
   "cell_type": "code",
   "execution_count": 3,
   "metadata": {},
   "outputs": [
    {
     "name": "stderr",
     "output_type": "stream",
     "text": [
      "100%|██████████| 1/1 [00:14<00:00, 14.15s/it]\n"
     ]
    },
    {
     "data": {
      "text/plain": [
       "[{'transcription': 'testando ortrans tricao ndeade',\n",
       "  'start_timestamps': [2120,\n",
       "   2160,\n",
       "   2260,\n",
       "   2420,\n",
       "   2460,\n",
       "   2620,\n",
       "   2700,\n",
       "   2720,\n",
       "   2740,\n",
       "   2760,\n",
       "   2800,\n",
       "   2920,\n",
       "   2960,\n",
       "   3000,\n",
       "   3080,\n",
       "   3120,\n",
       "   3280,\n",
       "   3300,\n",
       "   3340,\n",
       "   3380,\n",
       "   3440,\n",
       "   3620,\n",
       "   3740,\n",
       "   3840,\n",
       "   3860,\n",
       "   3900,\n",
       "   4020,\n",
       "   4120,\n",
       "   4400,\n",
       "   4420],\n",
       "  'end_timestamps': [2140,\n",
       "   2180,\n",
       "   2280,\n",
       "   2440,\n",
       "   2500,\n",
       "   2660,\n",
       "   2720,\n",
       "   2740,\n",
       "   2760,\n",
       "   2780,\n",
       "   2820,\n",
       "   2940,\n",
       "   2980,\n",
       "   3040,\n",
       "   3100,\n",
       "   3140,\n",
       "   3300,\n",
       "   3320,\n",
       "   3360,\n",
       "   3400,\n",
       "   3460,\n",
       "   3660,\n",
       "   3760,\n",
       "   3860,\n",
       "   3880,\n",
       "   3920,\n",
       "   4040,\n",
       "   4140,\n",
       "   4420,\n",
       "   4440],\n",
       "  'probabilities': [0.9459206461906433,\n",
       "   0.9718320965766907,\n",
       "   0.9113994240760803,\n",
       "   0.9829403758049011,\n",
       "   0.8166347146034241,\n",
       "   0.6997710466384888,\n",
       "   0.9217085838317871,\n",
       "   0.6595230102539062,\n",
       "   0.7765009999275208,\n",
       "   0.9313125610351562,\n",
       "   0.604046106338501,\n",
       "   0.9815271496772766,\n",
       "   0.9590380787849426,\n",
       "   0.7955253720283508,\n",
       "   0.837459146976471,\n",
       "   0.8584825992584229,\n",
       "   0.5737947225570679,\n",
       "   0.7883126139640808,\n",
       "   0.7808067202568054,\n",
       "   0.6764124631881714,\n",
       "   0.6704420447349548,\n",
       "   0.9378286600112915,\n",
       "   0.8763513565063477,\n",
       "   0.5193595886230469,\n",
       "   0.5354900360107422,\n",
       "   0.944637656211853,\n",
       "   0.8517958521842957,\n",
       "   0.906304657459259,\n",
       "   0.9875059127807617,\n",
       "   0.6708564162254333]}]"
      ]
     },
     "execution_count": 3,
     "metadata": {},
     "output_type": "execute_result"
    }
   ],
   "source": [
    "model2.transcribe(['WhatsApp Ptt 2024-01-04 at 21.47.25.ogg'])"
   ]
  },
  {
   "cell_type": "code",
   "execution_count": null,
   "metadata": {},
   "outputs": [],
   "source": []
  }
 ],
 "metadata": {
  "kernelspec": {
   "display_name": "conda-stt-py3.8",
   "language": "python",
   "name": "python3"
  },
  "language_info": {
   "codemirror_mode": {
    "name": "ipython",
    "version": 3
   },
   "file_extension": ".py",
   "mimetype": "text/x-python",
   "name": "python",
   "nbconvert_exporter": "python",
   "pygments_lexer": "ipython3",
   "version": "3.8.18"
  }
 },
 "nbformat": 4,
 "nbformat_minor": 2
}
